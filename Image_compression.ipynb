{
  "nbformat": 4,
  "nbformat_minor": 0,
  "metadata": {
    "colab": {
      "name": "Image_compression.ipynb",
      "version": "0.3.2",
      "provenance": [],
      "collapsed_sections": [],
      "include_colab_link": true
    },
    "kernelspec": {
      "name": "python3",
      "display_name": "Python 3"
    }
  },
  "cells": [
    {
      "cell_type": "markdown",
      "metadata": {
        "id": "view-in-github",
        "colab_type": "text"
      },
      "source": [
        "<a href=\"https://colab.research.google.com/github/kryogenica/Image-compression-using-Matrix-Product-States/blob/master/Image_compression.ipynb\" target=\"_parent\"><img src=\"https://colab.research.google.com/assets/colab-badge.svg\" alt=\"Open In Colab\"/></a>"
      ]
    },
    {
      "cell_type": "markdown",
      "metadata": {
        "id": "7BGIZ7mpctpj",
        "colab_type": "text"
      },
      "source": [
        "# Matrix Product States to lossly compress images\n",
        "\n",
        "This notebook is based on the work of the paper titled \"[Tensor Networks for Image Compression](http://diposit.ub.edu/dspace/bitstream/2445/96365/1/TFG_Fis_Trujillo_Boque_Alex.pdf)\" by Alex Trujillo Boque."
      ]
    },
    {
      "cell_type": "code",
      "metadata": {
        "id": "dzLKpmZICaWN",
        "colab_type": "code",
        "colab": {
          "base_uri": "https://localhost:8080/",
          "height": 34
        },
        "outputId": "e72c04c4-ce26-47e7-8349-1c0900e37088"
      },
      "source": [
        "from __future__ import absolute_import, division, print_function, unicode_literals\n",
        "\n",
        "# TensorFlow and tf.keras\n",
        "import tensorflow as tf\n",
        "from tensorflow import keras\n",
        "\n",
        "# Helper libraries\n",
        "import numpy as np\n",
        "import matplotlib.pyplot as plt\n",
        "\n",
        "print(tf.__version__)"
      ],
      "execution_count": 18,
      "outputs": [
        {
          "output_type": "stream",
          "text": [
            "1.13.1\n"
          ],
          "name": "stdout"
        }
      ]
    },
    {
      "cell_type": "markdown",
      "metadata": {
        "id": "oKM94l4VfeLI",
        "colab_type": "text"
      },
      "source": [
        "The images to be used will be from the Fashion-MNIST data set.\n"
      ]
    },
    {
      "cell_type": "code",
      "metadata": {
        "id": "7MqDQO0KCaWS",
        "colab_type": "code",
        "colab": {}
      },
      "source": [
        "fashion_mnist = keras.datasets.fashion_mnist\n",
        "\n",
        "(train_images, train_labels), (test_images, test_labels) = fashion_mnist.load_data()"
      ],
      "execution_count": 0,
      "outputs": []
    },
    {
      "cell_type": "markdown",
      "metadata": {
        "id": "ES6uQoLKCaWr",
        "colab_type": "text"
      },
      "source": [
        "## Preprocess the data\n",
        "\n",
        "The data must be preprocessed before implementing it through Matrix Product State (MPS) tensor network. If you inspect the first image in the training set, its pixel values fall in the range of 0 to 255:"
      ]
    },
    {
      "cell_type": "code",
      "metadata": {
        "id": "3SKXxphPhFNi",
        "colab_type": "code",
        "colab": {
          "base_uri": "https://localhost:8080/",
          "height": 269
        },
        "outputId": "434d9db8-6e92-4440-c88e-512d4c1f168b"
      },
      "source": [
        "image = train_images[217]\n",
        "plt.figure()\n",
        "plt.imshow(image)\n",
        "plt.colorbar()\n",
        "plt.grid(False)\n",
        "plt.show()"
      ],
      "execution_count": 20,
      "outputs": [
        {
          "output_type": "display_data",
          "data": {
            "image/png": "[encoded data removed]",
            "text/plain": [
              "<Figure size 432x288 with 2 Axes>"
            ]
          },
          "metadata": {
            "tags": []
          }
        }
      ]
    },
    {
      "cell_type": "markdown",
      "metadata": {
        "id": "Wz7l27Lz9S1P",
        "colab_type": "text"
      },
      "source": [
        "We scale these values to a range of 0 to 1 before trying to compress through the MPS network. For this, we divide the values by 255. It's important that the *training set* and the *testing set* are preprocessed in the same way:"
      ]
    },
    {
      "cell_type": "code",
      "metadata": {
        "id": "bW5WzIPlCaWv",
        "colab_type": "code",
        "colab": {}
      },
      "source": [
        "train_images = train_images / 255.0\n",
        "\n",
        "test_images = test_images / 255.0"
      ],
      "execution_count": 0,
      "outputs": []
    },
    {
      "cell_type": "markdown",
      "metadata": {
        "id": "KhJynkhbhvEP",
        "colab_type": "text"
      },
      "source": [
        "As you can see in the image below its pixel values range from 0 to 1."
      ]
    },
    {
      "cell_type": "code",
      "metadata": {
        "id": "rYnlBdm_h41h",
        "colab_type": "code",
        "colab": {
          "base_uri": "https://localhost:8080/",
          "height": 269
        },
        "outputId": "0bbcf820-1d1d-46e3-b8ef-e5d2eca2a16e"
      },
      "source": [
        "image = train_images[217]\n",
        "plt.figure()\n",
        "plt.imshow(image)\n",
        "plt.colorbar()\n",
        "plt.grid(False)\n",
        "plt.show()"
      ],
      "execution_count": 22,
      "outputs": [
        {
          "output_type": "display_data",
          "data": {
            "image/png": "[encoded data removed]",
            "text/plain": [
              "<Figure size 432x288 with 2 Axes>"
            ]
          },
          "metadata": {
            "tags": []
          }
        }
      ]
    },
    {
      "cell_type": "markdown",
      "metadata": {
        "id": "4rcBjsOXionv",
        "colab_type": "text"
      },
      "source": [
        "Before proceeding a small patch of the above image will be extracted. This will be used as a smaller image as to better explain the following content. The requirement to compress an image with the MPS algorithim specificed in the paper is that its dimension needs to be 2^n x 2^n. "
      ]
    },
    {
      "cell_type": "code",
      "metadata": {
        "id": "m4VEw8Ud9Quh",
        "colab_type": "code",
        "colab": {
          "base_uri": "https://localhost:8080/",
          "height": 269
        },
        "outputId": "59d4c2e7-6edd-45ac-ee4c-b295daf0da7c"
      },
      "source": [
        "image = train_images[217][13:17,17:21]\n",
        "plt.figure()\n",
        "plt.imshow(image)\n",
        "plt.colorbar()\n",
        "plt.grid(False)\n",
        "plt.show()"
      ],
      "execution_count": 23,
      "outputs": [
        {
          "output_type": "display_data",
          "data": {
            "image/png": "[encoded data removed]",
            "text/plain": [
              "<Figure size 432x288 with 2 Axes>"
            ]
          },
          "metadata": {
            "tags": []
          }
        }
      ]
    },
    {
      "cell_type": "markdown",
      "metadata": {
        "id": "QId36n_JoUED",
        "colab_type": "text"
      },
      "source": [
        "We will use schematic below to label the pixels in the image above. For this case all pixels have two coordinates assigned to them. As the dimesion of the image increases more coordinates are assigned to the image.\n",
        "\n",
        "\n",
        "![SubBlockSystem](https://drive.google.com/uc?export=view&id=1JEYmaje0RSEBdKyDnHELD5TU2eYsi0wW)"
      ]
    },
    {
      "cell_type": "code",
      "metadata": {
        "id": "oklyQ452eoR4",
        "colab_type": "code",
        "colab": {}
      },
      "source": [
        "sub_image_1 = np.reshape(image[0:2,0:2].copy(),4)\n",
        "sub_image_2 = np.reshape(image[0:2,2:4].copy(),4)\n",
        "sub_image_3 = np.reshape(image[2:4,0:2].copy(),4)\n",
        "sub_image_4 = np.reshape(image[2:4,2:4].copy(),4)"
      ],
      "execution_count": 0,
      "outputs": []
    },
    {
      "cell_type": "code",
      "metadata": {
        "id": "KXriO-xtnmEK",
        "colab_type": "code",
        "colab": {
          "base_uri": "https://localhost:8080/",
          "height": 269
        },
        "outputId": "a3dce393-c3c0-4bca-972d-2975f59a53f5"
      },
      "source": [
        "C = np.vstack((sub_image_1,sub_image_2,sub_image_3,sub_image_4))\n",
        "plt.figure()\n",
        "plt.imshow(C)\n",
        "plt.colorbar()\n",
        "plt.grid(False)\n",
        "plt.show()"
      ],
      "execution_count": 25,
      "outputs": [
        {
          "output_type": "display_data",
          "data": {
            "image/png": "[encoded data removed]",
            "text/plain": [
              "<Figure size 432x288 with 2 Axes>"
            ]
          },
          "metadata": {
            "tags": []
          }
        }
      ]
    },
    {
      "cell_type": "code",
      "metadata": {
        "id": "2VYlj2mBoxyy",
        "colab_type": "code",
        "colab": {
          "base_uri": "https://localhost:8080/",
          "height": 269
        },
        "outputId": "00906118-8b15-4668-c9bd-694b0ac86ddd"
      },
      "source": [
        "C_vectorized = np.reshape(C,(C.shape[0]*C.shape[0]))\n",
        "density_matrix = np.outer(C_vectorized,C_vectorized)\n",
        "#density_matrix = np.kron(C,C)\n",
        "plt.figure()\n",
        "plt.imshow(density_matrix)\n",
        "plt.colorbar()\n",
        "plt.grid(False)\n",
        "plt.show()"
      ],
      "execution_count": 26,
      "outputs": [
        {
          "output_type": "display_data",
          "data": {
            "image/png": "[encoded data removed]",
            "text/plain": [
              "<Figure size 432x288 with 2 Axes>"
            ]
          },
          "metadata": {
            "tags": []
          }
        }
      ]
    }
  ]
}