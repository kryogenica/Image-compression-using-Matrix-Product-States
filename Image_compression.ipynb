{
  "nbformat": 4,
  "nbformat_minor": 0,
  "metadata": {
    "colab": {
      "name": "Image_compression.ipynb",
      "version": "0.3.2",
      "provenance": [],
      "collapsed_sections": [],
      "include_colab_link": true
    },
    "kernelspec": {
      "name": "python3",
      "display_name": "Python 3"
    }
  },
  "cells": [
    {
      "cell_type": "markdown",
      "metadata": {
        "id": "view-in-github",
        "colab_type": "text"
      },
      "source": [
        "<a href=\"https://colab.research.google.com/github/kryogenica/Image-compression-using-Matrix-Product-States/blob/master/Image_compression.ipynb\" target=\"_parent\"><img src=\"https://colab.research.google.com/assets/colab-badge.svg\" alt=\"Open In Colab\"/></a>"
      ]
    },
    {
      "cell_type": "markdown",
      "metadata": {
        "id": "7BGIZ7mpctpj",
        "colab_type": "text"
      },
      "source": [
        "# Matrix Product States to lossly compress images\n",
        "\n",
        "This notebook is based on the work of the paper titled \"[Tensor Networks for Image Compression](http://diposit.ub.edu/dspace/bitstream/2445/96365/1/TFG_Fis_Trujillo_Boque_Alex.pdf)\" by Alex Trujillo Boque."
      ]
    },
    {
      "cell_type": "code",
      "metadata": {
        "id": "dzLKpmZICaWN",
        "colab_type": "code",
        "outputId": "b5e89cd6-e6bc-4451-df28-930e3ef1a246",
        "colab": {
          "base_uri": "https://localhost:8080/",
          "height": 34
        }
      },
      "source": [
        "from __future__ import absolute_import, division, print_function, unicode_literals\n",
        "\n",
        "# TensorFlow and tf.keras\n",
        "import tensorflow as tf\n",
        "from tensorflow import keras\n",
        "\n",
        "# Helper libraries\n",
        "import numpy as np\n",
        "import math\n",
        "import matplotlib.pyplot as plt\n",
        "\n",
        "print(tf.__version__)"
      ],
      "execution_count": 1,
      "outputs": [
        {
          "output_type": "stream",
          "text": [
            "1.14.0\n"
          ],
          "name": "stdout"
        }
      ]
    },
    {
      "cell_type": "markdown",
      "metadata": {
        "id": "oKM94l4VfeLI",
        "colab_type": "text"
      },
      "source": [
        "Images to be used will be from the Fashion-MNIST data set.\n"
      ]
    },
    {
      "cell_type": "code",
      "metadata": {
        "id": "7MqDQO0KCaWS",
        "colab_type": "code",
        "outputId": "114647ba-4cb0-4ba9-920d-79e50d1317bd",
        "colab": {
          "base_uri": "https://localhost:8080/",
          "height": 153
        }
      },
      "source": [
        "fashion_mnist = keras.datasets.fashion_mnist\n",
        "\n",
        "(train_images, train_labels), (test_images, test_labels) = fashion_mnist.load_data()"
      ],
      "execution_count": 2,
      "outputs": [
        {
          "output_type": "stream",
          "text": [
            "Downloading data from https://storage.googleapis.com/tensorflow/tf-keras-datasets/train-labels-idx1-ubyte.gz\n",
            "32768/29515 [=================================] - 0s 0us/step\n",
            "Downloading data from https://storage.googleapis.com/tensorflow/tf-keras-datasets/train-images-idx3-ubyte.gz\n",
            "26427392/26421880 [==============================] - 0s 0us/step\n",
            "Downloading data from https://storage.googleapis.com/tensorflow/tf-keras-datasets/t10k-labels-idx1-ubyte.gz\n",
            "8192/5148 [===============================================] - 0s 0us/step\n",
            "Downloading data from https://storage.googleapis.com/tensorflow/tf-keras-datasets/t10k-images-idx3-ubyte.gz\n",
            "4423680/4422102 [==============================] - 0s 0us/step\n"
          ],
          "name": "stdout"
        }
      ]
    },
    {
      "cell_type": "markdown",
      "metadata": {
        "id": "ES6uQoLKCaWr",
        "colab_type": "text"
      },
      "source": [
        "## Preprocess the data\n",
        "\n",
        "The data must be preprocessed before implementing it through the Matrix Product State (MPS) tensor network. If you inspect the first image in the training set (below), its pixel values fall in the range of 0 to 255:"
      ]
    },
    {
      "cell_type": "code",
      "metadata": {
        "id": "3SKXxphPhFNi",
        "colab_type": "code",
        "outputId": "4aad586a-9e8a-4deb-a815-41bbdeb73ce6",
        "colab": {
          "base_uri": "https://localhost:8080/",
          "height": 286
        }
      },
      "source": [
        "image = train_images[217]\n",
        "plt.figure()\n",
        "plt.imshow(image)\n",
        "plt.colorbar()\n",
        "plt.grid(False)\n",
        "plt.show()\n",
        "print ('Image 1.')"
      ],
      "execution_count": 3,
      "outputs": [
        {
          "output_type": "display_data",
          "data": {
            "image/png": "[encoded data removed]",
            "text/plain": [
              "<Figure size 432x288 with 2 Axes>"
            ]
          },
          "metadata": {
            "tags": []
          }
        },
        {
          "output_type": "stream",
          "text": [
            "Image 1.\n"
          ],
          "name": "stdout"
        }
      ]
    },
    {
      "cell_type": "markdown",
      "metadata": {
        "id": "Wz7l27Lz9S1P",
        "colab_type": "text"
      },
      "source": [
        "We scale these values to range from 0 to 1 before trying to compress it through the MPS network. For this, we divide the values by 255."
      ]
    },
    {
      "cell_type": "code",
      "metadata": {
        "id": "bW5WzIPlCaWv",
        "colab_type": "code",
        "colab": {}
      },
      "source": [
        "train_images = train_images / 255.0\n",
        "\n",
        "test_images = test_images / 255.0"
      ],
      "execution_count": 0,
      "outputs": []
    },
    {
      "cell_type": "markdown",
      "metadata": {
        "id": "KhJynkhbhvEP",
        "colab_type": "text"
      },
      "source": [
        "As you can see in the image below its pixel values range from 0 to 1."
      ]
    },
    {
      "cell_type": "code",
      "metadata": {
        "id": "rYnlBdm_h41h",
        "colab_type": "code",
        "outputId": "bc3f0c0c-f35a-4f92-86f3-dec5b5c953fb",
        "colab": {
          "base_uri": "https://localhost:8080/",
          "height": 286
        }
      },
      "source": [
        "image = train_images[217]\n",
        "plt.figure()\n",
        "plt.imshow(image)\n",
        "plt.colorbar()\n",
        "plt.grid(False)\n",
        "plt.show()\n",
        "print ('Image 2.')"
      ],
      "execution_count": 5,
      "outputs": [
        {
          "output_type": "display_data",
          "data": {
            "image/png": "[encoded data removed]",
            "text/plain": [
              "<Figure size 432x288 with 2 Axes>"
            ]
          },
          "metadata": {
            "tags": []
          }
        },
        {
          "output_type": "stream",
          "text": [
            "Image 2.\n"
          ],
          "name": "stdout"
        }
      ]
    },
    {
      "cell_type": "markdown",
      "metadata": {
        "id": "4rcBjsOXionv",
        "colab_type": "text"
      },
      "source": [
        "Before proceeding a small patch of the above image will be extracted. This will be used as a smaller image as to better explain the following content. A requirement to compress an image through the MPS algorithim that we will see ahead is that it should be a square image of sides equal to L.\n",
        "\n",
        "With ***L*** being a solution to\n",
        "\n",
        "\\begin{equation}\n",
        "\\ n = log_{p} (L^2), \\hspace{0.3cm} p=m^2\n",
        "\\end{equation}\n",
        "\n",
        "under the condition that ***n*** needs to be an integer. The meaning of ***n*** and ***p*** will be explained below."
      ]
    },
    {
      "cell_type": "code",
      "metadata": {
        "id": "m4VEw8Ud9Quh",
        "colab_type": "code",
        "outputId": "91dce7a0-896d-4b02-c9a4-b2f35a868a90",
        "colab": {
          "base_uri": "https://localhost:8080/",
          "height": 286
        }
      },
      "source": [
        "image = train_images[217][11:19,15:23]\n",
        "plt.figure()\n",
        "plt.imshow(image)\n",
        "plt.colorbar()\n",
        "plt.grid(False)\n",
        "plt.show()\n",
        "print ('Image 3.')"
      ],
      "execution_count": 6,
      "outputs": [
        {
          "output_type": "display_data",
          "data": {
            "image/png": "[encoded data removed]",
            "text/plain": [
              "<Figure size 432x288 with 2 Axes>"
            ]
          },
          "metadata": {
            "tags": []
          }
        },
        {
          "output_type": "stream",
          "text": [
            "Image 3.\n"
          ],
          "name": "stdout"
        }
      ]
    },
    {
      "cell_type": "markdown",
      "metadata": {
        "id": "QId36n_JoUED",
        "colab_type": "text"
      },
      "source": [
        "In the image above ***L*** clearly equals 4 and ***p*** is equivalent to 2^2.\n",
        "\n",
        "***p*** is the number of pixels in each square sub-block.\n",
        "\n",
        "Using the schematic below to label the pixels in the image above and separate it into sub-blocks one sees that ***p*** is 2^2 for this case.  Additionally all pixels have two coordinates assigned to them. This is equivalent to ***n*** in the equation of the text cell above if we where to assign ***L*** and ***p*** the values mentioned in this text cell.\n",
        "\n",
        "\n",
        "![SubBlockSystem](https://drive.google.com/uc?export=view&id=1JEYmaje0RSEBdKyDnHELD5TU2eYsi0wW)\n",
        "\n",
        "Image 4."
      ]
    },
    {
      "cell_type": "markdown",
      "metadata": {
        "id": "oOiEYcvYbCBc",
        "colab_type": "text"
      },
      "source": [
        "Using the equation above and with predetermined p value do we calculate the number of croas graining levels in the image."
      ]
    },
    {
      "cell_type": "code",
      "metadata": {
        "id": "jJ-6lU_EZgQx",
        "colab_type": "code",
        "outputId": "d93b5d82-bdc8-4737-a1eb-11cf240a340d",
        "colab": {
          "base_uri": "https://localhost:8080/",
          "height": 34
        }
      },
      "source": [
        "m = 2\n",
        "p = m*m\n",
        "L = image.shape[0]\n",
        "levels = int(math.log((L*L),p))\n",
        "print (levels)"
      ],
      "execution_count": 7,
      "outputs": [
        {
          "output_type": "stream",
          "text": [
            "3\n"
          ],
          "name": "stdout"
        }
      ]
    },
    {
      "cell_type": "markdown",
      "metadata": {
        "id": "JoHOFVurr72n",
        "colab_type": "text"
      },
      "source": [
        "There is a function within TensorFlow that will allow us to \"chop up\" the image into sub-blocks and by the same fashion as the schematic above.\n",
        "The function is ***tf.extract_image_patches***. There is one problem with using it, our \"image\" is a rank 2 tensor (numpy.ndarray) and this function takes in rank 4 tensors.\n",
        "\n",
        "\n",
        "So we must convert the image into a rank 4 tensor.\n",
        "\n"
      ]
    },
    {
      "cell_type": "code",
      "metadata": {
        "id": "Fy6D3SpubajI",
        "colab_type": "code",
        "outputId": "5d3f8e3a-a3de-4532-a2fb-814022acf2c8",
        "colab": {
          "base_uri": "https://localhost:8080/",
          "height": 105
        }
      },
      "source": [
        "sess = tf.Session()\n",
        "with sess.as_default():\n",
        "  tensor = tf.constant(image)\n",
        "  t = tf.expand_dims(tensor, 0)\n",
        "  del tensor\n",
        "  tensor = tf.expand_dims(t, -1)\n",
        "  del t\n",
        "  chopped_image = tf.extract_image_patches(images=tensor, ksizes=[1, 2, 2, 1], strides=[1, 2, 2, 1], rates=[1, 1, 1, 1], padding='VALID').eval()\n",
        "  del tensor\n",
        "#The reasons that the function takes a 4 rank tensor are:  \n",
        "#First dimension is the reference to the image itself (this function can take batches of images).\n",
        "#The second and third dimension is the location of each pixel.\n",
        "#The fourth dimension is the value of each pixel. In our case its just a grey scale value."
      ],
      "execution_count": 8,
      "outputs": [
        {
          "output_type": "stream",
          "text": [
            "WARNING: Logging before flag parsing goes to stderr.\n",
            "W0713 22:01:50.193909 140033944496000 deprecation.py:506] From <ipython-input-8-bc1f32ce8bb7>:8: calling extract_image_patches (from tensorflow.python.ops.array_ops) with ksizes is deprecated and will be removed in a future version.\n",
            "Instructions for updating:\n",
            "ksizes is deprecated, use sizes instead\n"
          ],
          "name": "stderr"
        }
      ]
    },
    {
      "cell_type": "code",
      "metadata": {
        "id": "8ky6lrJrS4am",
        "colab_type": "code",
        "outputId": "5029a7e5-a556-4bd0-9e95-ad90c8f5a1cf",
        "colab": {
          "base_uri": "https://localhost:8080/",
          "height": 357
        }
      },
      "source": [
        "print (chopped_image)\n",
        "print (chopped_image.shape)"
      ],
      "execution_count": 9,
      "outputs": [
        {
          "output_type": "stream",
          "text": [
            "[[[[0.72156863 0.80392157 0.80784314 0.83137255]\n",
            "   [0.88235294 0.88235294 0.90196078 0.84705882]\n",
            "   [0.80392157 0.52156863 0.78039216 0.96078431]\n",
            "   [0.28235294 0.05490196 0.2        0.        ]]\n",
            "\n",
            "  [[0.85490196 0.83921569 0.39607843 0.86666667]\n",
            "   [0.76470588 0.80784314 0.89803922 0.77254902]\n",
            "   [0.78039216 0.78823529 0.75294118 0.78039216]\n",
            "   [1.         0.36862745 0.80392157 0.90980392]]\n",
            "\n",
            "  [[0.         0.04313725 0.         0.        ]\n",
            "   [0.61960784 0.86666667 0.49019608 0.7372549 ]\n",
            "   [0.8745098  0.72156863 0.4627451  0.28627451]\n",
            "   [0.43137255 0.3254902  0.34509804 0.38823529]]\n",
            "\n",
            "  [[0.00392157 0.52156863 0.45490196 0.43137255]\n",
            "   [0.54901961 0.36078431 0.29411765 0.3254902 ]\n",
            "   [0.38039216 0.40392157 0.3254902  0.30980392]\n",
            "   [0.41176471 0.41176471 0.29411765 0.28627451]]]]\n",
            "(1, 4, 4, 4)\n"
          ],
          "name": "stdout"
        }
      ]
    },
    {
      "cell_type": "markdown",
      "metadata": {
        "id": "D_Lxd3LNyrjw",
        "colab_type": "text"
      },
      "source": [
        "There is a benifit of using the tensorflow funtion above and it is that our pixels have been given orderly organization. We can explot this further on.\n",
        "\n",
        "Next lets use our latest result to create a vector to use under a outter product to generate the density matrix of this image."
      ]
    },
    {
      "cell_type": "code",
      "metadata": {
        "id": "y7EbCnTVTV7k",
        "colab_type": "code",
        "outputId": "550f0a9e-2418-4b15-c4f6-3b495e9b5cb8",
        "colab": {
          "base_uri": "https://localhost:8080/",
          "height": 340
        }
      },
      "source": [
        "A = np.reshape(np.squeeze(chopped_image),L*L)\n",
        "B = np.reshape(A,[1,4,4,4])\n",
        "print (B)"
      ],
      "execution_count": 10,
      "outputs": [
        {
          "output_type": "stream",
          "text": [
            "[[[[0.72156863 0.80392157 0.80784314 0.83137255]\n",
            "   [0.88235294 0.88235294 0.90196078 0.84705882]\n",
            "   [0.80392157 0.52156863 0.78039216 0.96078431]\n",
            "   [0.28235294 0.05490196 0.2        0.        ]]\n",
            "\n",
            "  [[0.85490196 0.83921569 0.39607843 0.86666667]\n",
            "   [0.76470588 0.80784314 0.89803922 0.77254902]\n",
            "   [0.78039216 0.78823529 0.75294118 0.78039216]\n",
            "   [1.         0.36862745 0.80392157 0.90980392]]\n",
            "\n",
            "  [[0.         0.04313725 0.         0.        ]\n",
            "   [0.61960784 0.86666667 0.49019608 0.7372549 ]\n",
            "   [0.8745098  0.72156863 0.4627451  0.28627451]\n",
            "   [0.43137255 0.3254902  0.34509804 0.38823529]]\n",
            "\n",
            "  [[0.00392157 0.52156863 0.45490196 0.43137255]\n",
            "   [0.54901961 0.36078431 0.29411765 0.3254902 ]\n",
            "   [0.38039216 0.40392157 0.3254902  0.30980392]\n",
            "   [0.41176471 0.41176471 0.29411765 0.28627451]]]]\n"
          ],
          "name": "stdout"
        }
      ]
    },
    {
      "cell_type": "code",
      "metadata": {
        "id": "2VYlj2mBoxyy",
        "colab_type": "code",
        "outputId": "596aeb68-9fb9-4124-ae97-772aa3bafb9e",
        "colab": {
          "base_uri": "https://localhost:8080/",
          "height": 303
        }
      },
      "source": [
        "C_vectorized = np.reshape(np.squeeze(chopped_image),L*L)\n",
        "density_matrix = np.outer(C_vectorized,C_vectorized)\n",
        "print ('     Density matrix of image')\n",
        "plt.figure()\n",
        "plt.imshow(density_matrix)\n",
        "plt.colorbar()\n",
        "plt.grid(False)\n",
        "plt.show()\n",
        "print ('Image 5.')"
      ],
      "execution_count": 11,
      "outputs": [
        {
          "output_type": "stream",
          "text": [
            "     Density matrix of image\n"
          ],
          "name": "stdout"
        },
        {
          "output_type": "display_data",
          "data": {
            "image/png": "[encoded data removed]",
            "text/plain": [
              "<Figure size 432x288 with 2 Axes>"
            ]
          },
          "metadata": {
            "tags": []
          }
        },
        {
          "output_type": "stream",
          "text": [
            "Image 5.\n"
          ],
          "name": "stdout"
        }
      ]
    },
    {
      "cell_type": "markdown",
      "metadata": {
        "id": "KZUOA750RVvU",
        "colab_type": "text"
      },
      "source": [
        "In order to continue it is vital to have the ability to assign to each pixel (when spread out as a vector) its coresponding coordinates based, yet again, to the schematic above."
      ]
    },
    {
      "cell_type": "code",
      "metadata": {
        "id": "6F7bxDxV2pi_",
        "colab_type": "code",
        "colab": {}
      },
      "source": [
        "organization = np.ndarray(shape=((L*L),levels))\n",
        "z = 0\n",
        "for k in range(0,L*L):\n",
        "  organization[k,0] = z\n",
        "  z += 1\n",
        "  if z==p:\n",
        "    z = 0\n",
        "\n",
        "location = organization[:,0].copy()\n",
        "\n",
        "for k in range(1,levels):\n",
        "  u = 0\n",
        "  u_counter = 0\n",
        "  z = 0\n",
        "  z_counter = 0\n",
        "  y = 0\n",
        "  level_counter = int(math.pow(m,k-1))\n",
        "  level_above = int(math.pow(m,k))\n",
        "  l_c = 0\n",
        "  for i in location:\n",
        "    organization[y,k] = z\n",
        "    y += 1\n",
        "    if i==(p-1):\n",
        "      l_c += 1\n",
        "      if l_c==level_counter:\n",
        "        z += 1\n",
        "        l_c = 0\n",
        "        z_counter += 1\n",
        "        if z_counter==level_above/k:\n",
        "          z_counter = 0\n",
        "          z =  u*m\n",
        "          u_counter += 1\n",
        "          if u_counter==int(L/math.pow(m,levels-1)):\n",
        "            u += 1\n",
        "            z = u*m\n",
        "            u_counter = 0\n",
        "            if u==m:\n",
        "              u=0\n",
        "              z=0"
      ],
      "execution_count": 0,
      "outputs": []
    },
    {
      "cell_type": "markdown",
      "metadata": {
        "id": "KCu3-PPKS9X_",
        "colab_type": "text"
      },
      "source": [
        "The way in which the vectorized form of the image has been organized is as follows.\n",
        "The baseline coordinate here is level 0 where we scan from 0 to ***p***. We move from one sub-block level 0 to another sub-block level 0 strating from the top left corner of the image and move to the right until the last sub-block level 0 in the first sub-block level 0 row is reached. Then we start again from the sub-block level 0 below the first one we started out with and yet again move to the right until the very end of its row. We continue with this methodology until the whole image has been covered. "
      ]
    },
    {
      "cell_type": "code",
      "metadata": {
        "id": "m2-452QElQEK",
        "colab_type": "code",
        "outputId": "0a56a51b-d8e1-4ed7-e433-91c5ddde5d2b",
        "colab": {
          "base_uri": "https://localhost:8080/",
          "height": 255
        }
      },
      "source": [
        "print (organization[:14,:])"
      ],
      "execution_count": 13,
      "outputs": [
        {
          "output_type": "stream",
          "text": [
            "[[0. 0. 0.]\n",
            " [1. 0. 0.]\n",
            " [2. 0. 0.]\n",
            " [3. 0. 0.]\n",
            " [0. 1. 0.]\n",
            " [1. 1. 0.]\n",
            " [2. 1. 0.]\n",
            " [3. 1. 0.]\n",
            " [0. 0. 1.]\n",
            " [1. 0. 1.]\n",
            " [2. 0. 1.]\n",
            " [3. 0. 1.]\n",
            " [0. 1. 1.]\n",
            " [1. 1. 1.]]\n"
          ],
          "name": "stdout"
        }
      ]
    },
    {
      "cell_type": "markdown",
      "metadata": {
        "id": "iwjRB3LXZmFE",
        "colab_type": "text"
      },
      "source": [
        "The next step is to create a density matrix of the image. A first stride to achieve this is to assign to each pixel in the orginal image a corresponding value for each one of its coarse graining levels. "
      ]
    },
    {
      "cell_type": "code",
      "metadata": {
        "id": "xp4mJtB-X1W8",
        "colab_type": "code",
        "outputId": "29f990d1-a677-4a1b-e2ad-1d182ae926c5",
        "colab": {
          "base_uri": "https://localhost:8080/",
          "height": 255
        }
      },
      "source": [
        "Coarse0 = np.reshape(organization[:,0],[1,64])\n",
        "Coarse1 = np.reshape(organization[:,1],[1,64])\n",
        "Coarse2 = np.reshape(organization[:,2],[1,64])\n",
        "levelValues = np.hstack((Coarse0,Coarse1,Coarse2))\n",
        "levelValues_vectorized = np.reshape(levelValues,(64,3),order='F')\n",
        "\n",
        "imaged_vectorized = np.reshape(chopped_image,[1,64])\n",
        "imageWithLevels = np.hstack((imaged_vectorized,Coarse0,Coarse1,Coarse2))\n",
        "imageWithLevels_vectorized = np.reshape(imageWithLevels,(64,4),order='F')\n",
        "\n",
        "print (imageWithLevels_vectorized[:14,:])"
      ],
      "execution_count": 14,
      "outputs": [
        {
          "output_type": "stream",
          "text": [
            "[[0.72156863 0.         0.         0.        ]\n",
            " [0.80392157 1.         0.         0.        ]\n",
            " [0.80784314 2.         0.         0.        ]\n",
            " [0.83137255 3.         0.         0.        ]\n",
            " [0.88235294 0.         1.         0.        ]\n",
            " [0.88235294 1.         1.         0.        ]\n",
            " [0.90196078 2.         1.         0.        ]\n",
            " [0.84705882 3.         1.         0.        ]\n",
            " [0.80392157 0.         0.         1.        ]\n",
            " [0.52156863 1.         0.         1.        ]\n",
            " [0.78039216 2.         0.         1.        ]\n",
            " [0.96078431 3.         0.         1.        ]\n",
            " [0.28235294 0.         1.         1.        ]\n",
            " [0.05490196 1.         1.         1.        ]]\n"
          ],
          "name": "stdout"
        }
      ]
    },
    {
      "cell_type": "markdown",
      "metadata": {
        "id": "NfEGTxi8Xr0L",
        "colab_type": "text"
      },
      "source": [
        "Now we can construct the density matrix. We create a structure that contains diferent layers, of which the first layer is the outter product of the image portraied in Image 5. (Array: \"densityMatrix\" ).\n",
        "The remainding layers are the kets and bras of each pixel stack on top of each other. This makes layers 1 to ***n*** the kets values and from layer ***n***+1 to 2***n***  the bra values."
      ]
    },
    {
      "cell_type": "code",
      "metadata": {
        "id": "eu0PCmCKgQtB",
        "colab_type": "code",
        "outputId": "b87e71ef-0730-4e44-d8c8-3d19ff44e598",
        "colab": {
          "base_uri": "https://localhost:8080/",
          "height": 34
        }
      },
      "source": [
        "print (levelValues_vectorized.shape)"
      ],
      "execution_count": 15,
      "outputs": [
        {
          "output_type": "stream",
          "text": [
            "(64, 3)\n"
          ],
          "name": "stdout"
        }
      ]
    },
    {
      "cell_type": "markdown",
      "metadata": {
        "id": "fzablqElJ00i",
        "colab_type": "text"
      },
      "source": [
        "Below bra and kets are adjoined to each outter product pixel value."
      ]
    },
    {
      "cell_type": "code",
      "metadata": {
        "id": "ae_P9hFhYPc4",
        "colab_type": "code",
        "colab": {
          "base_uri": "https://localhost:8080/",
          "height": 119
        },
        "outputId": "75799d1b-4b81-403a-e202-4e75fbf861ea"
      },
      "source": [
        "d = levelValues_vectorized.shape[0]\n",
        "levels = levelValues_vectorized.shape[1]\n",
        "densityMatrix = np.zeros([d,d,((2*levels)+1)])\n",
        "ii=0\n",
        "jj=0\n",
        "for i in levelValues_vectorized:\n",
        "  for j in levelValues_vectorized:\n",
        "    kk=0\n",
        "    ket_bra = np.hstack(((imaged_vectorized[0,ii]*imaged_vectorized[0,jj]),i,j))\n",
        "    densityMatrix[ii,jj,:] = ket_bra\n",
        "    jj += 1\n",
        "  jj=0\n",
        "  ii += 1\n",
        "\n",
        "print (\"These are the two first ([0,0] & [0,1]) outter product values with their respectives bra and ket vectors stacked to them.\\n\")\n",
        "print (densityMatrix[0,0:2,:])"
      ],
      "execution_count": 175,
      "outputs": [
        {
          "output_type": "stream",
          "text": [
            "These are the two first ([0,0] & [0,1]) outter product values with their respectives bra and ket vectors stacked to them.\n",
            "\n",
            "[[0.52066128 0.         0.         0.         0.         0.\n",
            "  0.        ]\n",
            " [0.58008458 0.         0.         0.         1.         0.\n",
            "  0.        ]]\n"
          ],
          "name": "stdout"
        }
      ]
    },
    {
      "cell_type": "markdown",
      "metadata": {
        "id": "vM0_7AiFJ-g1",
        "colab_type": "text"
      },
      "source": [
        "Create own method to do partial traces using the above structure.\n",
        "Every pixel now has 2**n** + 1 dimensions.\n",
        "\n",
        "First create the indicies to locate sub matrices within the density matrix"
      ]
    },
    {
      "cell_type": "code",
      "metadata": {
        "id": "VgClAmWqi4Ze",
        "colab_type": "code",
        "colab": {}
      },
      "source": [
        "#print (density_matrix.shape)\n",
        "#print (templateArray.shape)\n",
        "from itertools import combinations, product\n",
        "\n",
        "m=1\n",
        "\n",
        "def Trace_sub_index(p, m): \n",
        "    return list(product(list(range(p)), repeat=m))\n",
        "\n",
        "\n",
        "\n",
        "# Get all permutations of [0, 1, 2, 3] in r-lenght tupel \n",
        "sub_index = Trace_sub_index(p,(levels-m))\n",
        "index = Trace_sub_index(p, m)"
      ],
      "execution_count": 0,
      "outputs": []
    },
    {
      "cell_type": "markdown",
      "metadata": {
        "id": "rPGsg3yK7VvF",
        "colab_type": "text"
      },
      "source": [
        "Lets print the locating indices"
      ]
    },
    {
      "cell_type": "code",
      "metadata": {
        "id": "zt898XB8goid",
        "colab_type": "code",
        "colab": {
          "base_uri": "https://localhost:8080/",
          "height": 408
        },
        "outputId": "eb84f04d-941e-42f3-d85f-c4737756c831"
      },
      "source": [
        "print (\"index: to locate sub matrices\")\n",
        "for i in list(index): \n",
        "  print (np.asanyarray(i))\n",
        "  \n",
        "print (\"\")\n",
        "\n",
        "print (\"sub_index: these are the term to be summed within the sub matrix\")\n",
        "for i in list(sub_index): \n",
        "  print (np.asanyarray(i))"
      ],
      "execution_count": 180,
      "outputs": [
        {
          "output_type": "stream",
          "text": [
            "index: to locate sub matrices\n",
            "[0]\n",
            "[1]\n",
            "[2]\n",
            "[3]\n",
            "\n",
            "sub_index: these are the term to be summed within the sub matrix\n",
            "[0 0]\n",
            "[0 1]\n",
            "[0 2]\n",
            "[0 3]\n",
            "[1 0]\n",
            "[1 1]\n",
            "[1 2]\n",
            "[1 3]\n",
            "[2 0]\n",
            "[2 1]\n",
            "[2 2]\n",
            "[2 3]\n",
            "[3 0]\n",
            "[3 1]\n",
            "[3 2]\n",
            "[3 3]\n"
          ],
          "name": "stdout"
        }
      ]
    },
    {
      "cell_type": "markdown",
      "metadata": {
        "id": "bzcHfWM92f_9",
        "colab_type": "text"
      },
      "source": [
        "**Partial trace script**"
      ]
    },
    {
      "cell_type": "code",
      "metadata": {
        "id": "oRDkuqegh955",
        "colab_type": "code",
        "colab": {}
      },
      "source": [
        "partial_trace = np.empty([len(index),len(index)]) #create an empty matrix for the partial trace of the density matrix\n",
        "ii = 0\n",
        "jj = 0 #these will be used to navigate through the empty trace to populate it\n",
        "sum = 0\n",
        "for i in index:\n",
        "  for j in index:\n",
        "    for z in sub_index:\n",
        "      # i,j,z are use to re-create the ket bra stack\n",
        "      val = np.asanyarray(i+z+j+z)\n",
        "      \n",
        "      #locate a the matching bra ket vector in our density matrix \n",
        "      locate = str(np.where((densityMatrix[:,:,1:] == val).all(axis=2)))\n",
        "      string = [int(s) for s in locate.split() if s.isdigit()]\n",
        "      #Removing unnessary characters from returned value of the above function\n",
        "      locate = locate.replace(\"array\", \"\")\n",
        "      locate = locate.replace(\"[\", \"\")\n",
        "      locate = locate.replace(\"]\", \"\")\n",
        "      locate = locate.replace(\"(\", \"\")\n",
        "      locate = locate.replace(\")\", \"\")\n",
        "      locate = locate.replace(\",\", \"\")\n",
        "      locate = np.asanyarray(list(map(int, locate.split())))\n",
        "      \n",
        "      #sum up the terms within the sub matrix\n",
        "      sum = sum + densityMatrix[locate[0],locate[1],0]\n",
        "    \n",
        "    partial_trace[ii,jj] = sum\n",
        "    sum = 0\n",
        "    jj += 1\n",
        "  jj = 0\n",
        "  ii += 1"
      ],
      "execution_count": 0,
      "outputs": []
    },
    {
      "cell_type": "code",
      "metadata": {
        "id": "L-RpJvdo3mhw",
        "colab_type": "code",
        "colab": {
          "base_uri": "https://localhost:8080/",
          "height": 102
        },
        "outputId": "a9fce841-5c52-4422-be96-06a6a846a2e8"
      },
      "source": [
        "print ('Partial trace:')\n",
        "print (partial_trace)"
      ],
      "execution_count": 187,
      "outputs": [
        {
          "output_type": "stream",
          "text": [
            "Partial trace:\n",
            "[[6.90031526 5.94414456 5.74491349 6.26094579]\n",
            " [5.94414456 5.92845829 5.27803153 5.77613226]\n",
            " [5.74491349 5.27803153 5.35112649 5.64632065]\n",
            " [6.26094579 5.77613226 5.64632065 6.36267589]]\n"
          ],
          "name": "stdout"
        }
      ]
    },
    {
      "cell_type": "code",
      "metadata": {
        "id": "zGmdXnRI9srG",
        "colab_type": "code",
        "colab": {
          "base_uri": "https://localhost:8080/",
          "height": 153
        },
        "outputId": "fd9f459a-18e7-4d92-e718-49aaf0ef253e"
      },
      "source": [
        "from numpy import linalg as LA\n",
        "w, v = LA.eig(partial_trace)\n",
        "print('Eigenvalues of partial trace:')\n",
        "print (w)\n",
        "\n",
        "print ('')\n",
        "print ('Eigenvectors of partial trace:')\n",
        "print (v)"
      ],
      "execution_count": 188,
      "outputs": [
        {
          "output_type": "stream",
          "text": [
            "Eigenvalues of partial trace:\n",
            "[23.51091411  0.45113099  0.3932915   0.18723933]\n",
            "\n",
            "Eigenvectors of partial trace:\n",
            "[[ 5.29569729e-01  6.47777853e-01  5.45681421e-01  4.65997938e-02]\n",
            " [ 4.87847212e-01 -7.59526867e-01  4.29831220e-01 -1.92134892e-02]\n",
            " [ 4.68493397e-01  5.91825761e-02 -4.60741488e-01 -7.51484292e-01]\n",
            " [ 5.11932551e-01 -4.63193702e-04 -5.52443833e-01  6.57822666e-01]]\n"
          ],
          "name": "stdout"
        }
      ]
    }
  ]
}