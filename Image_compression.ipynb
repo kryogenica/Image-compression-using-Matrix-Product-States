{
  "nbformat": 4,
  "nbformat_minor": 0,
  "metadata": {
    "colab": {
      "name": "Image_compression.ipynb",
      "version": "0.3.2",
      "provenance": [],
      "collapsed_sections": [],
      "include_colab_link": true
    },
    "kernelspec": {
      "name": "python3",
      "display_name": "Python 3"
    }
  },
  "cells": [
    {
      "cell_type": "markdown",
      "metadata": {
        "id": "view-in-github",
        "colab_type": "text"
      },
      "source": [
        "<a href=\"https://colab.research.google.com/github/kryogenica/Image-compression-using-Matrix-Product-States/blob/master/Image_compression.ipynb\" target=\"_parent\"><img src=\"https://colab.research.google.com/assets/colab-badge.svg\" alt=\"Open In Colab\"/></a>"
      ]
    },
    {
      "cell_type": "markdown",
      "metadata": {
        "id": "7BGIZ7mpctpj",
        "colab_type": "text"
      },
      "source": [
        "# Matrix Product States to lossly compress images\n",
        "\n",
        "This notebook is based on the work of the paper titled \"[Tensor Networks for Image Compression](http://diposit.ub.edu/dspace/bitstream/2445/96365/1/TFG_Fis_Trujillo_Boque_Alex.pdf)\" by Alex Trujillo Boque."
      ]
    },
    {
      "cell_type": "code",
      "metadata": {
        "id": "dzLKpmZICaWN",
        "colab_type": "code",
        "outputId": "e8f1e5d7-adb6-4fce-ed9e-1989322f93f9",
        "colab": {
          "base_uri": "https://localhost:8080/",
          "height": 34
        }
      },
      "source": [
        "from __future__ import absolute_import, division, print_function, unicode_literals\n",
        "\n",
        "# TensorFlow and tf.keras\n",
        "import tensorflow as tf\n",
        "from tensorflow import keras\n",
        "\n",
        "# Helper libraries\n",
        "import numpy as np\n",
        "import math\n",
        "import matplotlib.pyplot as plt\n",
        "\n",
        "print(tf.__version__)"
      ],
      "execution_count": 13,
      "outputs": [
        {
          "output_type": "stream",
          "text": [
            "1.13.1\n"
          ],
          "name": "stdout"
        }
      ]
    },
    {
      "cell_type": "markdown",
      "metadata": {
        "id": "oKM94l4VfeLI",
        "colab_type": "text"
      },
      "source": [
        "Images to be used will be from the Fashion-MNIST data set.\n"
      ]
    },
    {
      "cell_type": "code",
      "metadata": {
        "id": "7MqDQO0KCaWS",
        "colab_type": "code",
        "colab": {}
      },
      "source": [
        "fashion_mnist = keras.datasets.fashion_mnist\n",
        "\n",
        "(train_images, train_labels), (test_images, test_labels) = fashion_mnist.load_data()"
      ],
      "execution_count": 0,
      "outputs": []
    },
    {
      "cell_type": "markdown",
      "metadata": {
        "id": "ES6uQoLKCaWr",
        "colab_type": "text"
      },
      "source": [
        "## Preprocess the data\n",
        "\n",
        "The data must be preprocessed before implementing it through the Matrix Product State (MPS) tensor network. If you inspect the first image in the training set (below), its pixel values fall in the range of 0 to 255:"
      ]
    },
    {
      "cell_type": "code",
      "metadata": {
        "id": "3SKXxphPhFNi",
        "colab_type": "code",
        "outputId": "cf25cfed-1175-4baf-942e-bc2f86582497",
        "colab": {
          "base_uri": "https://localhost:8080/",
          "height": 269
        }
      },
      "source": [
        "image = train_images[217]\n",
        "plt.figure()\n",
        "plt.imshow(image)\n",
        "plt.colorbar()\n",
        "plt.grid(False)\n",
        "plt.show()"
      ],
      "execution_count": 16,
      "outputs": [
        {
          "output_type": "display_data",
          "data": {
            "image/png": "[encoded data removed]",
            "text/plain": [
              "<Figure size 432x288 with 2 Axes>"
            ]
          },
          "metadata": {
            "tags": []
          }
        }
      ]
    },
    {
      "cell_type": "markdown",
      "metadata": {
        "id": "Wz7l27Lz9S1P",
        "colab_type": "text"
      },
      "source": [
        "We scale these values to range from 0 to 1 before trying to compress it through the MPS network. For this, we divide the values by 255."
      ]
    },
    {
      "cell_type": "code",
      "metadata": {
        "id": "bW5WzIPlCaWv",
        "colab_type": "code",
        "colab": {}
      },
      "source": [
        "train_images = train_images / 255.0\n",
        "\n",
        "test_images = test_images / 255.0"
      ],
      "execution_count": 0,
      "outputs": []
    },
    {
      "cell_type": "markdown",
      "metadata": {
        "id": "KhJynkhbhvEP",
        "colab_type": "text"
      },
      "source": [
        "As you can see in the image below its pixel values range from 0 to 1."
      ]
    },
    {
      "cell_type": "code",
      "metadata": {
        "id": "rYnlBdm_h41h",
        "colab_type": "code",
        "outputId": "c9bb5eb3-a9b0-4162-b84d-8c5f2c825330",
        "colab": {
          "base_uri": "https://localhost:8080/",
          "height": 269
        }
      },
      "source": [
        "image = train_images[217]\n",
        "plt.figure()\n",
        "plt.imshow(image)\n",
        "plt.colorbar()\n",
        "plt.grid(False)\n",
        "plt.show()"
      ],
      "execution_count": 18,
      "outputs": [
        {
          "output_type": "display_data",
          "data": {
            "image/png": "[encoded data removed]",
            "text/plain": [
              "<Figure size 432x288 with 2 Axes>"
            ]
          },
          "metadata": {
            "tags": []
          }
        }
      ]
    },
    {
      "cell_type": "markdown",
      "metadata": {
        "id": "4rcBjsOXionv",
        "colab_type": "text"
      },
      "source": [
        "Before proceeding a small patch of the above image will be extracted. This will be used as a smaller image as to better explain the following content. A requirement to compress an image through the MPS algorithim that we will see ahead is that it should be a square image of sides equal to L.\n",
        "\n",
        "With ***L*** being a solution to\n",
        "\n",
        "\\begin{equation}\n",
        "\\ n = log_{p} (L^2), \\hspace{0.3cm} p=m^2\n",
        "\\end{equation}\n",
        "\n",
        "under the condition that ***n*** needs to be an integer. The meaning of ***n*** and ***p*** will be explained below."
      ]
    },
    {
      "cell_type": "code",
      "metadata": {
        "id": "m4VEw8Ud9Quh",
        "colab_type": "code",
        "outputId": "f43a2199-89c4-4ffc-eec5-fff07dd41850",
        "colab": {
          "base_uri": "https://localhost:8080/",
          "height": 269
        }
      },
      "source": [
        "image = train_images[217][13:17,17:21]\n",
        "plt.figure()\n",
        "plt.imshow(image)\n",
        "plt.colorbar()\n",
        "plt.grid(False)\n",
        "plt.show()"
      ],
      "execution_count": 19,
      "outputs": [
        {
          "output_type": "display_data",
          "data": {
            "image/png": "[encoded data removed]",
            "text/plain": [
              "<Figure size 432x288 with 2 Axes>"
            ]
          },
          "metadata": {
            "tags": []
          }
        }
      ]
    },
    {
      "cell_type": "markdown",
      "metadata": {
        "id": "QId36n_JoUED",
        "colab_type": "text"
      },
      "source": [
        "In the image above ***L*** clearly equals 4 and ***p*** is equivalent to 2^2.\n",
        "\n",
        "***p*** is the number of pixels in each square sub-block.\n",
        "\n",
        "Using the schematic below to label the pixels in the image above and separate it into sub-blocks one sees that ***p*** is 2^2 for this case.  Additionally all pixels have two coordinates assigned to them. This is equivalent to ***n*** in the equation of the text cell above if we where to assign ***L*** and ***p*** the values mentioned in this text cell.\n",
        "\n",
        "\n",
        "![SubBlockSystem](https://drive.google.com/uc?export=view&id=1JEYmaje0RSEBdKyDnHELD5TU2eYsi0wW)"
      ]
    },
    {
      "cell_type": "markdown",
      "metadata": {
        "id": "oOiEYcvYbCBc",
        "colab_type": "text"
      },
      "source": [
        "Using the equation above and with predetermined p value do we calculate the number of croas graining levels in the image."
      ]
    },
    {
      "cell_type": "code",
      "metadata": {
        "id": "jJ-6lU_EZgQx",
        "colab_type": "code",
        "outputId": "b01e4749-c2d2-4290-9a31-678e2268a99a",
        "colab": {
          "base_uri": "https://localhost:8080/",
          "height": 34
        }
      },
      "source": [
        "m = 2\n",
        "p = m*m\n",
        "L = image.shape[0]\n",
        "levels = int(math.log((L*L),p))\n",
        "print (levels)"
      ],
      "execution_count": 20,
      "outputs": [
        {
          "output_type": "stream",
          "text": [
            "2\n"
          ],
          "name": "stdout"
        }
      ]
    },
    {
      "cell_type": "markdown",
      "metadata": {
        "id": "JoHOFVurr72n",
        "colab_type": "text"
      },
      "source": [
        "There is a function within TensorFlow that will allow us to \"chop up\" the image into sub-blocks and by the same fashion as the schematic above.\n",
        "The function is ***tf.extract_image_patches***. There is one problem with using it, our \"image\" is a rank 2 tensor (numpy.ndarray) and this function takes in rank 4 tensors.\n",
        "\n",
        "\n",
        "So we must convert the image into a rank 4 tensor.\n",
        "\n"
      ]
    },
    {
      "cell_type": "code",
      "metadata": {
        "id": "Fy6D3SpubajI",
        "colab_type": "code",
        "colab": {}
      },
      "source": [
        "sess = tf.Session()\n",
        "with sess.as_default():\n",
        "  tensor = tf.constant(image)\n",
        "  t = tf.expand_dims(tensor, 0)\n",
        "  del tensor\n",
        "  tensor = tf.expand_dims(t, -1)\n",
        "  del t\n",
        "  chopped_image = tf.extract_image_patches(images=tensor, ksizes=[1, 2, 2, 1], strides=[1, 2, 2, 1], rates=[1, 1, 1, 1], padding='VALID').eval()\n",
        "  del tensor\n",
        "#The reasons that the function takes a 4 rank tensor are:  \n",
        "#First dimension is the reference to the image itself (this function can take batches of images).\n",
        "#The second and third dimension is the location of each pixel.\n",
        "#The fourth dimension is the value of each pixel. In our case its just a grey scale value."
      ],
      "execution_count": 0,
      "outputs": []
    },
    {
      "cell_type": "markdown",
      "metadata": {
        "id": "D_Lxd3LNyrjw",
        "colab_type": "text"
      },
      "source": [
        "There is a benifit of using the tensorflow funtion above and it is that our pixels have been given orderly organization. We can explot this further on.\n",
        "\n",
        "Next lets use our latest result to create a vector to use under a outter product to generate the density matrix of this image."
      ]
    },
    {
      "cell_type": "code",
      "metadata": {
        "id": "2VYlj2mBoxyy",
        "colab_type": "code",
        "outputId": "b9a04b6b-5270-45fe-dc86-0b6c54a66008",
        "colab": {
          "base_uri": "https://localhost:8080/",
          "height": 269
        }
      },
      "source": [
        "C_vectorized = np.reshape(np.squeeze(chopped_image),L*L)\n",
        "density_matrix = np.outer(C_vectorized,C_vectorized)\n",
        "#density_matrix = np.kron(C,C)\n",
        "plt.figure()\n",
        "plt.imshow(density_matrix)\n",
        "plt.colorbar()\n",
        "plt.grid(False)\n",
        "plt.show()"
      ],
      "execution_count": 22,
      "outputs": [
        {
          "output_type": "display_data",
          "data": {
            "image/png": "[encoded data removed]",
            "text/plain": [
              "<Figure size 432x288 with 2 Axes>"
            ]
          },
          "metadata": {
            "tags": []
          }
        }
      ]
    },
    {
      "cell_type": "code",
      "metadata": {
        "id": "6F7bxDxV2pi_",
        "colab_type": "code",
        "outputId": "951718dc-c1e9-4465-8b26-90c7c5bbc2c1",
        "colab": {
          "base_uri": "https://localhost:8080/",
          "height": 51
        }
      },
      "source": [
        "organization = np.ndarray(shape=((L*L),levels))\n",
        "z = 0\n",
        "for k in range(0,L*L):\n",
        "  organization[k,0] = z\n",
        "  z += 1\n",
        "  if z==p:\n",
        "    z = 0\n",
        "\n",
        "location = organization[:,0].copy()\n",
        "\n",
        "for k in range(1,levels):\n",
        "  u = 0\n",
        "  u_counter = 1\n",
        "  z = 0\n",
        "  z_counter = 0\n",
        "  y = 0\n",
        "  level_counter = int(math.pow(m,k-1))\n",
        "  level_above = int(math.pow(m,k))\n",
        "  l_c = 0\n",
        "  for i in location:\n",
        "    organization[y,k] = z\n",
        "    y += 1\n",
        "    if i==(p-1):\n",
        "      l_c += 1\n",
        "      if l_c==level_counter:\n",
        "        l_c = 0\n",
        "        z += 1\n",
        "        z_counter += 1\n",
        "        if z_counter==level_above:\n",
        "          print ('hello')\n",
        "          z_counter = 0\n",
        "          z =  u*m\n",
        "          u_counter += 1\n",
        "          if u_counter==int(L/level_above):\n",
        "            u += 1\n",
        "            z = u*m\n",
        "            if u==m:\n",
        "              u=0"
      ],
      "execution_count": 39,
      "outputs": [
        {
          "output_type": "stream",
          "text": [
            "hello\n",
            "hello\n"
          ],
          "name": "stdout"
        }
      ]
    },
    {
      "cell_type": "code",
      "metadata": {
        "id": "m2-452QElQEK",
        "colab_type": "code",
        "colab": {
          "base_uri": "https://localhost:8080/",
          "height": 306
        },
        "outputId": "1937bde1-5ce9-4bc8-db0b-16558e540e03"
      },
      "source": [
        "print (location)\n",
        "print (organization)"
      ],
      "execution_count": 40,
      "outputs": [
        {
          "output_type": "stream",
          "text": [
            "[0. 1. 2. 3. 0. 1. 2. 3. 0. 1. 2. 3. 0. 1. 2. 3.]\n",
            "[[0. 0.]\n",
            " [1. 0.]\n",
            " [2. 0.]\n",
            " [3. 0.]\n",
            " [0. 1.]\n",
            " [1. 1.]\n",
            " [2. 1.]\n",
            " [3. 1.]\n",
            " [0. 2.]\n",
            " [1. 2.]\n",
            " [2. 2.]\n",
            " [3. 2.]\n",
            " [0. 3.]\n",
            " [1. 3.]\n",
            " [2. 3.]\n",
            " [3. 3.]]\n"
          ],
          "name": "stdout"
        }
      ]
    }
  ]
}